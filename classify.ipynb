{
 "cells": [
  {
   "cell_type": "markdown",
   "metadata": {},
   "source": [
    "## Reading in the Featureset\n",
    "- slightly pre-processed data exists from acquisition from stockpup  "
   ]
  },
  {
   "cell_type": "code",
   "execution_count": 1,
   "metadata": {
    "collapsed": false
   },
   "outputs": [
    {
     "name": "stdout",
     "output_type": "stream",
     "text": [
      "Read in CSV\n"
     ]
    }
   ],
   "source": [
    "import pandas as pd\n",
    "from pandas import Series,DataFrame\n",
    "import numpy as np\n",
    "from sklearn.preprocessing import scale\n",
    "from sklearn.svm import SVR\n",
    "import tensorflow as tf \n",
    "import pickle\n",
    "\n",
    "# For Visualization\n",
    "import matplotlib.pyplot as plt\n",
    "import matplotlib\n",
    "#%matplotlib inline\n",
    "\n",
    "# matplotlib.style.use('ggplot')\n",
    "df=pd.read_csv('features.csv')\n",
    "\n",
    "print(\"Read in CSV\")"
   ]
  },
  {
   "cell_type": "markdown",
   "metadata": {},
   "source": [
    "## Separating Out the Training and Test Sets\n",
    "- training set is everything but the last 4 quarters of data for each company \n",
    "- test set is the last 4 quarters"
   ]
  },
  {
   "cell_type": "code",
   "execution_count": 2,
   "metadata": {
    "collapsed": false
   },
   "outputs": [
    {
     "name": "stdout",
     "output_type": "stream",
     "text": [
      "(28512, 30)\n",
      "(7376, 30)\n"
     ]
    },
    {
     "data": {
      "text/html": [
       "<div>\n",
       "<table border=\"1\" class=\"dataframe\">\n",
       "  <thead>\n",
       "    <tr style=\"text-align: right;\">\n",
       "      <th></th>\n",
       "      <th>Shares split adjusted</th>\n",
       "      <th>Assets</th>\n",
       "      <th>Liabilities</th>\n",
       "      <th>Shareholders equity</th>\n",
       "      <th>Non-controlling interest</th>\n",
       "      <th>Preferred equity</th>\n",
       "      <th>Goodwill &amp; intangibles</th>\n",
       "      <th>Long-term debt</th>\n",
       "      <th>Revenue</th>\n",
       "      <th>Earnings</th>\n",
       "      <th>...</th>\n",
       "      <th>P/B ratio</th>\n",
       "      <th>P/E ratio</th>\n",
       "      <th>Cumulative dividends per share</th>\n",
       "      <th>Dividend payout ratio</th>\n",
       "      <th>Long-term debt to equity ratio</th>\n",
       "      <th>Equity to assets ratio</th>\n",
       "      <th>Net margin</th>\n",
       "      <th>Asset turnover</th>\n",
       "      <th>Gain</th>\n",
       "      <th>Id</th>\n",
       "    </tr>\n",
       "  </thead>\n",
       "  <tbody>\n",
       "    <tr>\n",
       "      <th>0</th>\n",
       "      <td>691931278</td>\n",
       "      <td>34479000000</td>\n",
       "      <td>16338000000</td>\n",
       "      <td>17644000000</td>\n",
       "      <td>497000000</td>\n",
       "      <td>0</td>\n",
       "      <td>9063000000</td>\n",
       "      <td>4852000000</td>\n",
       "      <td>7497000000</td>\n",
       "      <td>1161000000</td>\n",
       "      <td>...</td>\n",
       "      <td>3.79</td>\n",
       "      <td>14.68</td>\n",
       "      <td>30.41</td>\n",
       "      <td>0.2078</td>\n",
       "      <td>0.2750</td>\n",
       "      <td>0.5117</td>\n",
       "      <td>0.2613</td>\n",
       "      <td>0.90</td>\n",
       "      <td>1.014251</td>\n",
       "      <td>1</td>\n",
       "    </tr>\n",
       "    <tr>\n",
       "      <th>1</th>\n",
       "      <td>691319463</td>\n",
       "      <td>33339000000</td>\n",
       "      <td>16466000000</td>\n",
       "      <td>16406000000</td>\n",
       "      <td>467000000</td>\n",
       "      <td>0</td>\n",
       "      <td>8911000000</td>\n",
       "      <td>5657000000</td>\n",
       "      <td>7534000000</td>\n",
       "      <td>1167000000</td>\n",
       "      <td>...</td>\n",
       "      <td>3.69</td>\n",
       "      <td>14.19</td>\n",
       "      <td>29.82</td>\n",
       "      <td>0.2068</td>\n",
       "      <td>0.3448</td>\n",
       "      <td>0.4921</td>\n",
       "      <td>0.2585</td>\n",
       "      <td>0.92</td>\n",
       "      <td>1.044783</td>\n",
       "      <td>1</td>\n",
       "    </tr>\n",
       "    <tr>\n",
       "      <th>2</th>\n",
       "      <td>693872048</td>\n",
       "      <td>32015000000</td>\n",
       "      <td>15396000000</td>\n",
       "      <td>16182000000</td>\n",
       "      <td>437000000</td>\n",
       "      <td>0</td>\n",
       "      <td>8955000000</td>\n",
       "      <td>4510000000</td>\n",
       "      <td>7486000000</td>\n",
       "      <td>1125000000</td>\n",
       "      <td>...</td>\n",
       "      <td>3.89</td>\n",
       "      <td>14.49</td>\n",
       "      <td>29.23</td>\n",
       "      <td>0.2047</td>\n",
       "      <td>0.2787</td>\n",
       "      <td>0.5055</td>\n",
       "      <td>0.2570</td>\n",
       "      <td>0.93</td>\n",
       "      <td>0.995599</td>\n",
       "      <td>1</td>\n",
       "    </tr>\n",
       "    <tr>\n",
       "      <th>3</th>\n",
       "      <td>694543763</td>\n",
       "      <td>31616000000</td>\n",
       "      <td>15754000000</td>\n",
       "      <td>15420000000</td>\n",
       "      <td>442000000</td>\n",
       "      <td>0</td>\n",
       "      <td>8963000000</td>\n",
       "      <td>4563000000</td>\n",
       "      <td>7089000000</td>\n",
       "      <td>1013000000</td>\n",
       "      <td>...</td>\n",
       "      <td>3.13</td>\n",
       "      <td>12.90</td>\n",
       "      <td>28.64</td>\n",
       "      <td>0.2034</td>\n",
       "      <td>0.2959</td>\n",
       "      <td>0.4877</td>\n",
       "      <td>0.2571</td>\n",
       "      <td>0.93</td>\n",
       "      <td>1.138281</td>\n",
       "      <td>1</td>\n",
       "    </tr>\n",
       "    <tr>\n",
       "      <th>4</th>\n",
       "      <td>700844681</td>\n",
       "      <td>32115000000</td>\n",
       "      <td>14703000000</td>\n",
       "      <td>16968000000</td>\n",
       "      <td>444000000</td>\n",
       "      <td>0</td>\n",
       "      <td>9092000000</td>\n",
       "      <td>4955000000</td>\n",
       "      <td>7531000000</td>\n",
       "      <td>1103000000</td>\n",
       "      <td>...</td>\n",
       "      <td>3.48</td>\n",
       "      <td>14.42</td>\n",
       "      <td>28.09</td>\n",
       "      <td>0.3610</td>\n",
       "      <td>0.2920</td>\n",
       "      <td>0.5284</td>\n",
       "      <td>0.1456</td>\n",
       "      <td>0.93</td>\n",
       "      <td>0.892996</td>\n",
       "      <td>1</td>\n",
       "    </tr>\n",
       "    <tr>\n",
       "      <th>5</th>\n",
       "      <td>709535731</td>\n",
       "      <td>32282000000</td>\n",
       "      <td>14540000000</td>\n",
       "      <td>17330000000</td>\n",
       "      <td>412000000</td>\n",
       "      <td>0</td>\n",
       "      <td>9258000000</td>\n",
       "      <td>4484000000</td>\n",
       "      <td>7680000000</td>\n",
       "      <td>1160000000</td>\n",
       "      <td>...</td>\n",
       "      <td>4.05</td>\n",
       "      <td>16.14</td>\n",
       "      <td>27.54</td>\n",
       "      <td>0.3571</td>\n",
       "      <td>0.2587</td>\n",
       "      <td>0.5368</td>\n",
       "      <td>0.1496</td>\n",
       "      <td>0.92</td>\n",
       "      <td>0.903051</td>\n",
       "      <td>1</td>\n",
       "    </tr>\n",
       "    <tr>\n",
       "      <th>6</th>\n",
       "      <td>710577360</td>\n",
       "      <td>31129000000</td>\n",
       "      <td>14242000000</td>\n",
       "      <td>16494000000</td>\n",
       "      <td>393000000</td>\n",
       "      <td>0</td>\n",
       "      <td>9125000000</td>\n",
       "      <td>4486000000</td>\n",
       "      <td>7311000000</td>\n",
       "      <td>1081000000</td>\n",
       "      <td>...</td>\n",
       "      <td>4.09</td>\n",
       "      <td>15.97</td>\n",
       "      <td>26.99</td>\n",
       "      <td>0.3566</td>\n",
       "      <td>0.2720</td>\n",
       "      <td>0.5299</td>\n",
       "      <td>0.1533</td>\n",
       "      <td>0.92</td>\n",
       "      <td>1.046501</td>\n",
       "      <td>1</td>\n",
       "    </tr>\n",
       "    <tr>\n",
       "      <th>7</th>\n",
       "      <td>711805978</td>\n",
       "      <td>30156000000</td>\n",
       "      <td>14139000000</td>\n",
       "      <td>15663000000</td>\n",
       "      <td>354000000</td>\n",
       "      <td>0</td>\n",
       "      <td>8640000000</td>\n",
       "      <td>4277000000</td>\n",
       "      <td>6709000000</td>\n",
       "      <td>928000000</td>\n",
       "      <td>...</td>\n",
       "      <td>4.02</td>\n",
       "      <td>15.42</td>\n",
       "      <td>26.44</td>\n",
       "      <td>0.3658</td>\n",
       "      <td>0.2731</td>\n",
       "      <td>0.5194</td>\n",
       "      <td>0.1532</td>\n",
       "      <td>0.91</td>\n",
       "      <td>1.030258</td>\n",
       "      <td>1</td>\n",
       "    </tr>\n",
       "    <tr>\n",
       "      <th>8</th>\n",
       "      <td>714859083</td>\n",
       "      <td>30065000000</td>\n",
       "      <td>14232000000</td>\n",
       "      <td>15504000000</td>\n",
       "      <td>329000000</td>\n",
       "      <td>0</td>\n",
       "      <td>7178000000</td>\n",
       "      <td>5105000000</td>\n",
       "      <td>6874000000</td>\n",
       "      <td>1106000000</td>\n",
       "      <td>...</td>\n",
       "      <td>4.22</td>\n",
       "      <td>15.09</td>\n",
       "      <td>25.92</td>\n",
       "      <td>0.3634</td>\n",
       "      <td>0.3293</td>\n",
       "      <td>0.5157</td>\n",
       "      <td>0.1569</td>\n",
       "      <td>0.92</td>\n",
       "      <td>1.054891</td>\n",
       "      <td>1</td>\n",
       "    </tr>\n",
       "    <tr>\n",
       "      <th>9</th>\n",
       "      <td>713134328</td>\n",
       "      <td>28496000000</td>\n",
       "      <td>14233000000</td>\n",
       "      <td>13971000000</td>\n",
       "      <td>292000000</td>\n",
       "      <td>0</td>\n",
       "      <td>6888000000</td>\n",
       "      <td>4949000000</td>\n",
       "      <td>6731000000</td>\n",
       "      <td>1121000000</td>\n",
       "      <td>...</td>\n",
       "      <td>4.17</td>\n",
       "      <td>15.66</td>\n",
       "      <td>25.40</td>\n",
       "      <td>0.3735</td>\n",
       "      <td>0.3542</td>\n",
       "      <td>0.4903</td>\n",
       "      <td>0.1553</td>\n",
       "      <td>0.91</td>\n",
       "      <td>1.043659</td>\n",
       "      <td>1</td>\n",
       "    </tr>\n",
       "  </tbody>\n",
       "</table>\n",
       "<p>10 rows × 30 columns</p>\n",
       "</div>"
      ],
      "text/plain": [
       "   Shares split adjusted       Assets  Liabilities  Shareholders equity  \\\n",
       "0              691931278  34479000000  16338000000          17644000000   \n",
       "1              691319463  33339000000  16466000000          16406000000   \n",
       "2              693872048  32015000000  15396000000          16182000000   \n",
       "3              694543763  31616000000  15754000000          15420000000   \n",
       "4              700844681  32115000000  14703000000          16968000000   \n",
       "5              709535731  32282000000  14540000000          17330000000   \n",
       "6              710577360  31129000000  14242000000          16494000000   \n",
       "7              711805978  30156000000  14139000000          15663000000   \n",
       "8              714859083  30065000000  14232000000          15504000000   \n",
       "9              713134328  28496000000  14233000000          13971000000   \n",
       "\n",
       "   Non-controlling interest  Preferred equity  Goodwill & intangibles  \\\n",
       "0                 497000000                 0              9063000000   \n",
       "1                 467000000                 0              8911000000   \n",
       "2                 437000000                 0              8955000000   \n",
       "3                 442000000                 0              8963000000   \n",
       "4                 444000000                 0              9092000000   \n",
       "5                 412000000                 0              9258000000   \n",
       "6                 393000000                 0              9125000000   \n",
       "7                 354000000                 0              8640000000   \n",
       "8                 329000000                 0              7178000000   \n",
       "9                 292000000                 0              6888000000   \n",
       "\n",
       "   Long-term debt     Revenue    Earnings ...  P/B ratio  P/E ratio  \\\n",
       "0      4852000000  7497000000  1161000000 ...       3.79      14.68   \n",
       "1      5657000000  7534000000  1167000000 ...       3.69      14.19   \n",
       "2      4510000000  7486000000  1125000000 ...       3.89      14.49   \n",
       "3      4563000000  7089000000  1013000000 ...       3.13      12.90   \n",
       "4      4955000000  7531000000  1103000000 ...       3.48      14.42   \n",
       "5      4484000000  7680000000  1160000000 ...       4.05      16.14   \n",
       "6      4486000000  7311000000  1081000000 ...       4.09      15.97   \n",
       "7      4277000000  6709000000   928000000 ...       4.02      15.42   \n",
       "8      5105000000  6874000000  1106000000 ...       4.22      15.09   \n",
       "9      4949000000  6731000000  1121000000 ...       4.17      15.66   \n",
       "\n",
       "   Cumulative dividends per share  Dividend payout ratio  \\\n",
       "0                           30.41                 0.2078   \n",
       "1                           29.82                 0.2068   \n",
       "2                           29.23                 0.2047   \n",
       "3                           28.64                 0.2034   \n",
       "4                           28.09                 0.3610   \n",
       "5                           27.54                 0.3571   \n",
       "6                           26.99                 0.3566   \n",
       "7                           26.44                 0.3658   \n",
       "8                           25.92                 0.3634   \n",
       "9                           25.40                 0.3735   \n",
       "\n",
       "   Long-term debt to equity ratio  Equity to assets ratio  Net margin  \\\n",
       "0                          0.2750                  0.5117      0.2613   \n",
       "1                          0.3448                  0.4921      0.2585   \n",
       "2                          0.2787                  0.5055      0.2570   \n",
       "3                          0.2959                  0.4877      0.2571   \n",
       "4                          0.2920                  0.5284      0.1456   \n",
       "5                          0.2587                  0.5368      0.1496   \n",
       "6                          0.2720                  0.5299      0.1533   \n",
       "7                          0.2731                  0.5194      0.1532   \n",
       "8                          0.3293                  0.5157      0.1569   \n",
       "9                          0.3542                  0.4903      0.1553   \n",
       "\n",
       "   Asset turnover      Gain  Id  \n",
       "0            0.90  1.014251   1  \n",
       "1            0.92  1.044783   1  \n",
       "2            0.93  0.995599   1  \n",
       "3            0.93  1.138281   1  \n",
       "4            0.93  0.892996   1  \n",
       "5            0.92  0.903051   1  \n",
       "6            0.92  1.046501   1  \n",
       "7            0.91  1.030258   1  \n",
       "8            0.92  1.054891   1  \n",
       "9            0.91  1.043659   1  \n",
       "\n",
       "[10 rows x 30 columns]"
      ]
     },
     "execution_count": 2,
     "metadata": {},
     "output_type": "execute_result"
    }
   ],
   "source": [
    "# df.sort_values(by=['Id', 'Quarter end'], ascending=[1, 0])\n",
    "ids = df.Id.unique()\n",
    "\n",
    "# Seperate out the most recent quarter as it isn't yet labelled with next quarter's gain\n",
    "first_indices = []\n",
    "for stock_id in ids:\n",
    "    temp = df.loc[df.Id==stock_id].sort_values(by=['Quarter end'], ascending=[0])\n",
    "    first_indices.append(temp.index[0])\n",
    "\n",
    "current_qdf = df.ix[first_indices].reset_index(drop=True) # Current Quarter Dataframe\n",
    "past_qdf = df.drop(df.index[first_indices]).reset_index(drop=True)\n",
    "\n",
    "# Separating out training and test indices\n",
    "test_on = 16 # how many previous quarters to build the test off of\n",
    "test_indices = []\n",
    "to_drop = []\n",
    "for stock_id in ids:\n",
    "    temp = past_qdf.loc[past_qdf.Id==stock_id].sort_values(by=['Quarter end'], ascending=[0])\n",
    "    # Remove elements that do not have atleast n number of points \n",
    "    if len(temp.index.values) < test_on: \n",
    "        for i in range(len(temp.index.values)):\n",
    "            to_drop.append(temp.index[i])\n",
    "    else:\n",
    "        for i in range(test_on):\n",
    "            try:\n",
    "                test_indices.append(temp.index[i])\n",
    "            except:\n",
    "                pass # TODO Add Error Reporting\n",
    "\n",
    "filtered = past_qdf#.drop(past_qdf.index[to_drop])\n",
    "test_df = filtered.ix[test_indices].reset_index(drop=True)          \n",
    "train_df = filtered.drop(filtered.index[test_indices]).reset_index(drop=True)\n",
    "# print train_df[:10]\n",
    "# Keeping only the numerical values from the data tables as features\n",
    "numerics = ['int16', 'int32', 'int64', 'float16', 'float32', 'float64']\n",
    "test_df = test_df.select_dtypes(include=numerics)\n",
    "train_df = train_df.select_dtypes(include=numerics)\n",
    "\n",
    "print train_df.shape\n",
    "print test_df.shape\n",
    "# print len(train_df.Id.unique())\n",
    "train_df.head(10)"
   ]
  },
  {
   "cell_type": "code",
   "execution_count": 23,
   "metadata": {
    "collapsed": false
   },
   "outputs": [
    {
     "name": "stdout",
     "output_type": "stream",
     "text": [
      "(28512, 28)\n",
      "(28512, 1)\n"
     ]
    }
   ],
   "source": [
    "# Extract labels and values\n",
    "train_labels = train_df[['Gain']].values\n",
    "test_labels = test_df[['Gain']].values\n",
    "\n",
    "train_set = train_df.drop(['Gain', 'Id'], axis=1).values\n",
    "test_set = test_df.drop(['Gain', 'Id'], axis=1).values\n",
    "# train_set = (train_set - train_set.mean()) / (train_set.max() - train_set.min())\n",
    "# test_set = (test_set - test_set.mean()) / (test_set.max() - test_set.min())\n",
    "test_labels = np.flipud(test_labels)\n",
    "test_set = np.flipud(test_set)\n",
    "\n",
    "print train_set.shape\n",
    "print train_labels.shape"
   ]
  },
  {
   "cell_type": "markdown",
   "metadata": {},
   "source": [
    "## Training a model \n",
    "- Two layered MLP"
   ]
  },
  {
   "cell_type": "code",
   "execution_count": 4,
   "metadata": {
    "collapsed": false
   },
   "outputs": [],
   "source": [
    "tf.reset_default_graph()\n",
    "\n",
    "n_hidden_1 = 50\n",
    "n_hidden_2 = 50\n",
    "n_hidden_3 = 50\n",
    "n_hidden_4 = 50\n",
    "n_input = 28\n",
    "n_output = 1\n",
    "\n",
    "weights = {\n",
    "    'w1': tf.Variable(tf.random_normal([n_input, n_hidden_1])),\n",
    "    'w2': tf.Variable(tf.random_normal([n_hidden_1, n_hidden_2])),\n",
    "    'w3': tf.Variable(tf.random_normal([n_hidden_2, n_hidden_3])),\n",
    "    'w4': tf.Variable(tf.random_normal([n_hidden_3, n_hidden_4])),\n",
    "    'out': tf.Variable(tf.random_normal([n_hidden_4, n_output]))\n",
    "}\n",
    "\n",
    "biases = {\n",
    "    'b1': tf.Variable(tf.random_normal([n_hidden_1])),\n",
    "    'b2': tf.Variable(tf.random_normal([n_hidden_2])),\n",
    "    'b3': tf.Variable(tf.random_normal([n_hidden_3])),\n",
    "    'b4': tf.Variable(tf.random_normal([n_hidden_4])),\n",
    "    'out': tf.Variable(tf.random_normal([n_output]))\n",
    "}\n",
    "\n",
    "\n",
    "def multilayer_perceptron(x):\n",
    "    # Hidden layer with Sigmoid activation\n",
    "    layer_1 = tf.add(tf.matmul(x, weights['w1']), biases['b1'])\n",
    "    layer_1 = tf.nn.sigmoid(layer_1)\n",
    "    # Hidden layer with Sigmoid activation\n",
    "    layer_2 = tf.add(tf.matmul(layer_1, weights['w2']), biases['b2'])\n",
    "    layer_2 = tf.nn.sigmoid(layer_2)\n",
    "    # Hidden layer with Sigmoid activation\n",
    "    layer_3 = tf.add(tf.matmul(layer_2, weights['w3']), biases['b3'])\n",
    "    layer_3 = tf.nn.sigmoid(layer_3)\n",
    "    # Hidden layer with Sigmoid activation\n",
    "    layer_4 = tf.add(tf.matmul(layer_3, weights['w4']), biases['b4'])\n",
    "    layer_4 = tf.nn.sigmoid(layer_4)\n",
    "    # Hidden layer with Sigmoid activation\n",
    "    # Output layer with linear activation\n",
    "    out_layer = tf.matmul(layer_4, weights['out']) + biases['out']\n",
    "    return out_layer\n",
    "\n",
    "x = tf.placeholder('float32', shape=[None, n_input])\n",
    "y = tf.placeholder('float32', shape=[None, n_output])\n",
    "model = multilayer_perceptron(x)"
   ]
  },
  {
   "cell_type": "code",
   "execution_count": 5,
   "metadata": {
    "collapsed": false
   },
   "outputs": [],
   "source": [
    "def run_epochs(n_epoch=10, batch_size=32):\n",
    "\n",
    "    n_batch = int(len(train_set)/batch_size)\n",
    "    print(\"Num Batches: {}\".format(n_batch))\n",
    "    costs = []\n",
    "\n",
    "    for i_epoch in range(n_epoch):\n",
    "        avg_cost = 0.\n",
    "\n",
    "        indexes = np.arange(len(train_set))\n",
    "        np.random.shuffle(indexes)\n",
    "\n",
    "        batch_costs = []\n",
    "\n",
    "        for i_batch in range(n_batch):\n",
    "            sindx = indexes[i_batch*batch_size:(i_batch+1)*batch_size]\n",
    "            _, c = sess.run([optimizer,cost], feed_dict={x: train_set[sindx],\n",
    "                                                         y: train_labels[sindx]})\n",
    "            \n",
    "            avg_cost += c / n_batch\n",
    "        \n",
    "        print(\"Epoch:\", '%04d' % (i_epoch+1), \"cost=\", \"{:.9f}\".format(avg_cost))  \n",
    "        costs.append(avg_cost)\n",
    "    print(\"Optimization Finished!\")\n",
    "    print(\"Accuracy:\", sess.run(accuracy, feed_dict={x: train_set,\n",
    "                                                    y: train_labels}))\n",
    "\n",
    "    return costs"
   ]
  },
  {
   "cell_type": "code",
   "execution_count": 6,
   "metadata": {
    "collapsed": false
   },
   "outputs": [
    {
     "name": "stderr",
     "output_type": "stream",
     "text": [
      "Using TensorFlow backend.\n"
     ]
    },
    {
     "name": "stdout",
     "output_type": "stream",
     "text": [
      "Running epochs\n",
      "Num Batches: 5702\n",
      "('Epoch:', '0001', 'cost=', '0.620745063')\n",
      "('Epoch:', '0002', 'cost=', '0.166524948')\n",
      "('Epoch:', '0003', 'cost=', '0.154239146')\n",
      "('Epoch:', '0004', 'cost=', '0.150999550')\n",
      "('Epoch:', '0005', 'cost=', '0.149203613')\n",
      "('Epoch:', '0006', 'cost=', '0.148098133')\n",
      "('Epoch:', '0007', 'cost=', '0.147275288')\n",
      "('Epoch:', '0008', 'cost=', '0.146928374')\n",
      "('Epoch:', '0009', 'cost=', '0.146653108')\n",
      "('Epoch:', '0010', 'cost=', '0.146416828')\n",
      "Optimization Finished!\n",
      "('Accuracy:', 1.0)\n"
     ]
    }
   ],
   "source": [
    "from keras.utils.np_utils import to_categorical\n",
    "\n",
    "# ts = to_categorical(train_labels)\n",
    "\n",
    "# Define loss and optimizer\n",
    "cost = tf.sqrt(tf.reduce_mean(tf.square(tf.subtract(model,y))))#tf.reduce_mean(tf.nn.softmax_cross_entropy_with_logits(logits=model, labels=y))\n",
    "optimizer = tf.train.AdamOptimizer(learning_rate=0.0001).minimize(cost)\n",
    "\n",
    "# Initializing the variables\n",
    "init = tf.global_variables_initializer()\n",
    "\n",
    "training_epochs = 10\n",
    "correct_prediction = tf.equal(tf.argmax(y,1), tf.argmax(model,1))\n",
    "accuracy = tf.reduce_mean(tf.cast(correct_prediction, tf.float32))\n",
    "\n",
    "test_predictions = []\n",
    "full_costs = None\n",
    "# Launch the graph\n",
    "with tf.Session() as sess:\n",
    "    sess.run(init)\n",
    "    print(\"Running epochs\")\n",
    "    full_costs = run_epochs(training_epochs, batch_size=5)\n",
    "    mlp = {'weights': sess.run(weights), \n",
    "           'biases': sess.run(biases)}\n",
    "    pickle.dump( mlp, open( \"mlp.p\", \"wb\" ) )\n",
    "    \n",
    "    for i in range(len(test_set)):\n",
    "        test_predictions.append(sess.run(model, feed_dict={x: test_set[i][:][None]})[0,0])\n"
   ]
  },
  {
   "cell_type": "code",
   "execution_count": 7,
   "metadata": {
    "collapsed": false
   },
   "outputs": [
    {
     "data": {
      "image/png": "[encoded data removed]",
      "text/plain": [
       "<matplotlib.figure.Figure at 0x11234da90>"
      ]
     },
     "metadata": {},
     "output_type": "display_data"
    },
    {
     "data": {
      "image/png": "[encoded data removed]",
      "text/plain": [
       "<matplotlib.figure.Figure at 0x1129221d0>"
      ]
     },
     "metadata": {},
     "output_type": "display_data"
    }
   ],
   "source": [
    "# plt.figure()\n",
    "plt.plot(np.arange(len(full_costs)), full_costs)\n",
    "plt.xlabel('Training Epoch')\n",
    "plt.ylabel('RMSE (Cost)')\n",
    "plt.grid(True)\n",
    "plt.title('Epoch vs RMSE During Training')\n",
    "# print full_costs\n",
    "plt.figure()\n",
    "plt.subplot(3,1,1)\n",
    "plt.plot(test_predictions[:])\n",
    "plt.subplot(3,1,2)\n",
    "plt.plot(test_labels[:])\n",
    "plt.show()\n",
    "\n",
    "# print test_set[1:5]\n",
    "# print reversed(test_set[1:5])"
   ]
  },
  {
   "cell_type": "code",
   "execution_count": 8,
   "metadata": {
    "collapsed": false
   },
   "outputs": [],
   "source": [
    "organized_predictions = np.array(test_predictions).reshape((len(test_set)/test_on, test_on))\n",
    "organized_labels = test_labels.reshape((len(test_set)/test_on,test_on)) \n",
    "import csv   \n",
    "\n",
    "def get_returns(num_picks):\n",
    "    picks = []\n",
    "    ret_actual = []\n",
    "    ret_pred = []\n",
    "    for i in range(test_on):\n",
    "        picks.append(np.argsort(organized_predictions[:,i])[-num_picks:])\n",
    "        ret_actual.append(np.average(organized_labels[:,i][picks[i]]))\n",
    "        ret_pred.append(np.average(organized_predictions[:,i][picks[i]]))\n",
    "    \n",
    "    return (picks, ret_actual, ret_pred)"
   ]
  },
  {
   "cell_type": "markdown",
   "metadata": {},
   "source": [
    "## Testing Returns with Different Number of Stock Selections"
   ]
  },
  {
   "cell_type": "code",
   "execution_count": 9,
   "metadata": {
    "collapsed": false
   },
   "outputs": [
    {
     "data": {
      "image/png": "[encoded data removed]",
      "text/plain": [
       "<matplotlib.figure.Figure at 0x1123c57d0>"
      ]
     },
     "metadata": {},
     "output_type": "display_data"
    },
    {
     "name": "stdout",
     "output_type": "stream",
     "text": [
      "[ 1.05460076  1.24656297  1.30616887  1.40297378  1.48462707  1.49988486\n",
      "  1.60663167  1.59034773  1.73900832  1.76588251  1.91406231  2.14932048\n",
      "  2.08150377  2.22803966  2.39276858  2.31758567]\n",
      "[ 1.08649413  1.16044191  1.22755233  1.29993181  1.37306195  1.42828483\n",
      "  1.47326058  1.47948093  1.55296059  1.59339159  1.52043452  1.50570843\n",
      "  1.44311605  1.54316265  1.60529212  1.65095233]\n"
     ]
    }
   ],
   "source": [
    "num_picks = 5\n",
    "picks, ret_actual, ret_pred = get_returns(num_picks)\n",
    "_, ret_benchmark, _ = get_returns(len(test_set)/test_on)\n",
    "with open('temp_data.csv', 'a') as f:\n",
    "    writer = csv.writer(f)\n",
    "    writer.writerow(np.cumprod(ret_actual))\n",
    "trange = np.linspace(1,test_on, test_on)\n",
    "plt.figure()\n",
    "plt.plot(trange, np.cumprod(ret_actual), 'ro-', label='Actual Returns')\n",
    "# plt.plot(trange, np.cumprod(ret_pred), 'bo-', label='Predicted Returns')\n",
    "plt.plot(trange, np.cumprod(ret_benchmark), 'g', label='Benchmark Returns')\n",
    "plt.title('Returns Over {} Quarters with {} Top Picks'.format(test_on, num_picks))\n",
    "plt.legend()\n",
    "plt.grid(True)\n",
    "plt.show()\n",
    "\n",
    "print np.cumprod(ret_actual)\n",
    "print np.cumprod(ret_benchmark)"
   ]
  },
  {
   "cell_type": "code",
   "execution_count": 21,
   "metadata": {
    "collapsed": false
   },
   "outputs": [
    {
     "data": {
      "image/png": "[encoded data removed]",
      "text/plain": [
       "<matplotlib.figure.Figure at 0x118312e50>"
      ]
     },
     "metadata": {},
     "output_type": "display_data"
    },
    {
     "name": "stdout",
     "output_type": "stream",
     "text": [
      "[ 51 265 410 450 457]\n"
     ]
    }
   ],
   "source": [
    "num_picks = 10\n",
    "picks, ret_actual, ret_pred = get_returns(num_picks)\n",
    "with open('temp_data.csv', 'a') as f:\n",
    "    writer = csv.writer(f)\n",
    "    writer.writerow(np.cumprod(ret_actual))\n",
    "trange = np.linspace(1,test_on, test_on)\n",
    "plt.figure()\n",
    "plt.plot(trange, np.cumprod(ret_actual), 'ro-', label='Actual Returns')\n",
    "# plt.plot(trange, np.cumprod(ret_pred), 'bo-', label='Predicted Returns')\n",
    "plt.plot(trange, np.cumprod(ret_benchmark), 'g', label='Benchmark Returns')\n",
    "plt.title('Returns Over {} Quarters with {} Top Picks'.format(test_on, num_picks))\n",
    "plt.legend()\n",
    "plt.grid(True)\n",
    "plt.show()\n"
   ]
  },
  {
   "cell_type": "code",
   "execution_count": 11,
   "metadata": {
    "collapsed": false
   },
   "outputs": [
    {
     "data": {
      "image/png": "[encoded data removed]",
      "text/plain": [
       "<matplotlib.figure.Figure at 0x112edb410>"
      ]
     },
     "metadata": {},
     "output_type": "display_data"
    },
    {
     "name": "stdout",
     "output_type": "stream",
     "text": [
      "[ 1.0114498   1.12572941  1.1878282   1.25854432  1.33977211  1.3018033\n",
      "  1.33531356  1.33985088  1.48575825  1.54657729  1.59621455  1.76848787\n",
      "  1.67924415  1.86320144  1.9861997   1.94215366]\n"
     ]
    }
   ],
   "source": [
    "num_picks = 15\n",
    "picks, ret_actual, ret_pred = get_returns(num_picks)\n",
    "with open('temp_data.csv', 'a') as f:\n",
    "    writer = csv.writer(f)\n",
    "    writer.writerow(np.cumprod(ret_actual))\n",
    "trange = np.linspace(1,test_on, test_on)\n",
    "plt.figure()\n",
    "plt.plot(trange, np.cumprod(ret_actual), 'ro-', label='Actual Returns')\n",
    "# plt.plot(trange, np.cumprod(ret_pred), 'bo-', label='Predicted Returns')\n",
    "plt.plot(trange, np.cumprod(ret_benchmark), 'g', label='Benchmark Returns')\n",
    "plt.title('Returns Over {} Quarters with {} Top Picks'.format(test_on, num_picks))\n",
    "plt.legend()\n",
    "plt.grid(True)\n",
    "plt.show()\n",
    "\n",
    "print np.cumprod(ret_actual)"
   ]
  },
  {
   "cell_type": "code",
   "execution_count": 12,
   "metadata": {
    "collapsed": false
   },
   "outputs": [
    {
     "data": {
      "image/png": "[encoded data removed]",
      "text/plain": [
       "<matplotlib.figure.Figure at 0x112eb46d0>"
      ]
     },
     "metadata": {},
     "output_type": "display_data"
    },
    {
     "name": "stdout",
     "output_type": "stream",
     "text": [
      "[ 1.07694427  1.16008144  1.22282607  1.30722523  1.37692808  1.40744136\n",
      "  1.4452433   1.46054283  1.57518232  1.63931066  1.60265485  1.61337798\n",
      "  1.55066629  1.67394821  1.74245476  1.75123571]\n"
     ]
    }
   ],
   "source": [
    "num_picks = 100\n",
    "picks, ret_actual, ret_pred = get_returns(num_picks)\n",
    "with open('temp_data.csv', 'a') as f:\n",
    "    writer = csv.writer(f)\n",
    "    writer.writerow(np.cumprod(ret_actual))\n",
    "trange = np.linspace(1,test_on, test_on)\n",
    "plt.figure()\n",
    "plt.plot(trange, np.cumprod(ret_actual), 'ro-', label='Market Average Returns')\n",
    "# plt.plot(trange, np.cumprod(ret_pred), 'bo-', label='Predicted Returns')\n",
    "plt.plot(trange, np.cumprod(ret_benchmark), 'g', label='Benchmark Returns')\n",
    "plt.title('Returns Over {} Quarters with All {} Picked'.format(test_on, num_picks))\n",
    "plt.legend()\n",
    "plt.grid(True)\n",
    "plt.show()\n",
    "\n",
    "print np.cumprod(ret_actual)"
   ]
  },
  {
   "cell_type": "code",
   "execution_count": 22,
   "metadata": {
    "collapsed": false
   },
   "outputs": [
    {
     "data": {
      "image/png": "[encoded data removed]",
      "text/plain": [
       "<matplotlib.figure.Figure at 0x11a9cc3d0>"
      ]
     },
     "metadata": {},
     "output_type": "display_data"
    },
    {
     "name": "stdout",
     "output_type": "stream",
     "text": [
      "Round 0 has intersects [ 42  51  54  79  91 103 177 196 217 247 249 265 308 347 358 399 410 427\n",
      " 450 457]\n",
      "Round 1 has intersects [ 42  51 103 217 249 265 358 399 410 450 457]\n",
      "Round 2 has intersects [ 42  51 103 265 358 410 450 457]\n",
      "Round 3 has intersects [103 265 358 410 450 457]\n",
      "Round 4 has intersects [103 265 358 410 450 457]\n",
      "Round 5 has intersects [103 265 410 450 457]\n",
      "Round 6 has intersects [103 265 410 450 457]\n",
      "Round 7 has intersects [103 410 450 457]\n",
      "Round 8 has intersects [103 410 450 457]\n",
      "Round 9 has intersects [103 410 450]\n",
      "Round 10 has intersects [103 410]\n",
      "Round 11 has intersects [103 410]\n",
      "Round 12 has intersects [103 410]\n",
      "Round 13 has intersects [103 410]\n",
      "Round 14 has intersects [103 410]\n",
      "Round 15 has intersects [103 410]\n"
     ]
    }
   ],
   "source": [
    "num_picks = 20\n",
    "picks, ret_actual, ret_pred = get_returns(num_picks)\n",
    "with open('temp_data.csv', 'a') as f:\n",
    "    writer = csv.writer(f)\n",
    "    writer.writerow(np.cumprod(ret_actual))\n",
    "\n",
    "# print np.cumprod(ret_actual)\n",
    "intersect = picks[0]\n",
    "for i in range(test_on):\n",
    "    intersect = np.intersect1d(intersect, picks[i])\n",
    "    print(\"Round {} has intersects {}\".format(i, intersect))\n",
    "    \n",
    "trange = np.linspace(1,test_on, test_on)\n",
    "plt.figure()\n",
    "plt.plot(trange, np.cumprod(ret_actual), 'ro-', label='Actual Returns')\n",
    "# plt.plot(trange, np.cumprod(ret_pred), 'bo-', label='Predicted Returns')\n",
    "plt.plot(trange, np.cumprod(ret_benchmark), 'g', label='Benchmark Returns')\n",
    "plt.title('Returns Over {} Quarters with {} Top Picks'.format(test_on, num_picks))\n",
    "plt.legend()\n",
    "plt.grid(True)\n",
    "plt.show()\n"
   ]
  },
  {
   "cell_type": "code",
   "execution_count": 13,
   "metadata": {
    "collapsed": false
   },
   "outputs": [
    {
     "name": "stdout",
     "output_type": "stream",
     "text": [
      "[[ 1.01475179  1.01475179  1.01475179  1.01475179  1.01475179  1.01475179\n",
      "   1.01475179  1.01475179  1.01475179  1.01475179  1.01475179  1.01475179\n",
      "   1.01475179  1.01475179  1.01475179  1.01475179]\n",
      " [ 1.04238069  1.01796639  1.0177896   1.03699684  1.04238069  1.01796639\n",
      "   1.03699684  1.03699684  0.99800515  1.04238069  1.04238069  1.06927693\n",
      "   0.99800515  1.04386044  1.00489891  1.00489891]\n",
      " [ 0.97113883  1.03518891  1.03518891  1.02685499  1.02685499  1.02685499\n",
      "   1.02685499  1.02685499  0.99654198  1.0385474   1.00029397  1.00029397\n",
      "   1.00029397  1.0236131   1.0385474   1.0385474 ]\n",
      " [ 1.03037524  1.0390141   1.03037524  1.03037524  1.03037524  1.03037524\n",
      "   1.03037524  1.03037524  1.03037524  1.03037524  1.03037524  1.03037524\n",
      "   1.03037524  1.03037524  1.04120314  1.03037524]\n",
      " [ 1.01903248  1.01903248  1.01903248  1.01903248  1.01903248  1.01903248\n",
      "   1.01903248  1.01903248  1.01903248  1.01903248  1.01903248  1.01903248\n",
      "   1.01903248  1.01903248  1.01903248  1.01903248]]\n"
     ]
    }
   ],
   "source": [
    "print organized_predictions[:5]\n",
    "# print organized_labels[:50]"
   ]
  },
  {
   "cell_type": "code",
   "execution_count": 14,
   "metadata": {
    "collapsed": false
   },
   "outputs": [],
   "source": [
    "# from sklearn.neural_network import MLPRegressor \n",
    "# from sklearn.tree import DecisionTreeRegressor \n",
    "# from sklearn.ensemble import RandomForestRegressor\n",
    "# from sklearn.ensemble import AdaBoostRegressor\n",
    "# from sklearn.neighbors import KNeighborsRegressor\n",
    "# #create neural net regressor\n",
    "# print \"Starting Fit\"\n",
    "# reg = MLPRegressor(hidden_layer_sizes=(500,500), verbose=True, early_stopping=True,\n",
    "#                    learning_rate='constant' ,solver=\"sgd\", tol=1e-2,activation='logistic')\n",
    "# # reg = AdaBoostRegressor()\n",
    "# reg.fit(train_set,np.ravel(train_labels))\n",
    "# print \"Fit Complete\"\n",
    "# #test prediction\n",
    "# # test_x=[[x] for x in  range(201,220,2)]\n",
    " \n",
    "# # train_predictions = reg.predict(train_set)\n",
    "\n",
    "# # print \"Loss: {}\".format(np.sqrt(np.mean(np.square(train_predictions - train_labels))))\n",
    "# test_predictions=reg.predict(test_set)\n",
    "# print \"Prediction Complete\"\n",
    "# print test_predictions.shape\n",
    "\n",
    "# # plt.figure()\n",
    "# # plt.subplot(2,1,1)\n",
    "# # plt.plot(predict[:150])\n",
    "# # plt.subplot(2,1,2)\n",
    "# # plt.plot(test_labels[:150])\n",
    "# # plt.show()"
   ]
  }
 ],
 "metadata": {
  "kernelspec": {
   "display_name": "Python 2",
   "language": "python",
   "name": "python2"
  },
  "language_info": {
   "codemirror_mode": {
    "name": "ipython",
    "version": 2
   },
   "file_extension": ".py",
   "mimetype": "text/x-python",
   "name": "python",
   "nbconvert_exporter": "python",
   "pygments_lexer": "ipython2",
   "version": "2.7.10"
  }
 },
 "nbformat": 4,
 "nbformat_minor": 2
}
