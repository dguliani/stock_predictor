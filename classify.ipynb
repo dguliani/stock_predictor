{
 "cells": [
  {
   "cell_type": "markdown",
   "metadata": {},
   "source": [
    "## Reading in the Featureset"
   ]
  },
  {
   "cell_type": "code",
   "execution_count": 1,
   "metadata": {
    "collapsed": false
   },
   "outputs": [
    {
     "name": "stdout",
     "output_type": "stream",
     "text": [
      "Read in CSV\n"
     ]
    }
   ],
   "source": [
    "import pandas as pd\n",
    "from pandas import Series,DataFrame\n",
    "import numpy as np\n",
    "from sklearn.preprocessing import scale\n",
    "from sklearn.svm import SVR\n",
    "\n",
    "# For Visualization\n",
    "import matplotlib.pyplot as plt\n",
    "import matplotlib\n",
    "#%matplotlib inline\n",
    "\n",
    "# matplotlib.style.use('ggplot')\n",
    "df=pd.read_csv('features.csv')\n",
    "\n",
    "print(\"Read in CSV\")"
   ]
  },
  {
   "cell_type": "code",
   "execution_count": 2,
   "metadata": {
    "collapsed": false
   },
   "outputs": [
    {
     "data": {
      "text/html": [
       "<div>\n",
       "<table border=\"1\" class=\"dataframe\">\n",
       "  <thead>\n",
       "    <tr style=\"text-align: right;\">\n",
       "      <th></th>\n",
       "      <th>Quarter end</th>\n",
       "      <th>Shares split adjusted</th>\n",
       "      <th>Assets</th>\n",
       "      <th>Liabilities</th>\n",
       "      <th>Shareholders equity</th>\n",
       "      <th>Non-controlling interest</th>\n",
       "      <th>Preferred equity</th>\n",
       "      <th>Goodwill &amp; intangibles</th>\n",
       "      <th>Long-term debt</th>\n",
       "      <th>Revenue</th>\n",
       "      <th>...</th>\n",
       "      <th>P/B ratio</th>\n",
       "      <th>P/E ratio</th>\n",
       "      <th>Cumulative dividends per share</th>\n",
       "      <th>Dividend payout ratio</th>\n",
       "      <th>Long-term debt to equity ratio</th>\n",
       "      <th>Equity to assets ratio</th>\n",
       "      <th>Net margin</th>\n",
       "      <th>Asset turnover</th>\n",
       "      <th>Gain</th>\n",
       "      <th>Id</th>\n",
       "    </tr>\n",
       "  </thead>\n",
       "  <tbody>\n",
       "    <tr>\n",
       "      <th>0</th>\n",
       "      <td>2016-12-31</td>\n",
       "      <td>596200000</td>\n",
       "      <td>32906000000</td>\n",
       "      <td>22563000000</td>\n",
       "      <td>10298000000</td>\n",
       "      <td>45000000</td>\n",
       "      <td>0</td>\n",
       "      <td>11486000000</td>\n",
       "      <td>10723000000</td>\n",
       "      <td>7329000000</td>\n",
       "      <td>...</td>\n",
       "      <td>8.62</td>\n",
       "      <td>21.66</td>\n",
       "      <td>45.49</td>\n",
       "      <td>0.5294</td>\n",
       "      <td>1.0413</td>\n",
       "      <td>0.3130</td>\n",
       "      <td>0.1677</td>\n",
       "      <td>0.90</td>\n",
       "      <td>1.000000</td>\n",
       "      <td>1</td>\n",
       "    </tr>\n",
       "    <tr>\n",
       "      <th>1</th>\n",
       "      <td>2016-09-30</td>\n",
       "      <td>601466401</td>\n",
       "      <td>34051000000</td>\n",
       "      <td>22003000000</td>\n",
       "      <td>12002000000</td>\n",
       "      <td>46000000</td>\n",
       "      <td>0</td>\n",
       "      <td>11852000000</td>\n",
       "      <td>11079000000</td>\n",
       "      <td>7709000000</td>\n",
       "      <td>...</td>\n",
       "      <td>9.04</td>\n",
       "      <td>22.69</td>\n",
       "      <td>44.38</td>\n",
       "      <td>0.5329</td>\n",
       "      <td>0.9231</td>\n",
       "      <td>0.3525</td>\n",
       "      <td>0.1640</td>\n",
       "      <td>0.90</td>\n",
       "      <td>0.966609</td>\n",
       "      <td>1</td>\n",
       "    </tr>\n",
       "    <tr>\n",
       "      <th>2</th>\n",
       "      <td>2016-06-30</td>\n",
       "      <td>604400291</td>\n",
       "      <td>33235000000</td>\n",
       "      <td>21298000000</td>\n",
       "      <td>11894000000</td>\n",
       "      <td>43000000</td>\n",
       "      <td>0</td>\n",
       "      <td>11833000000</td>\n",
       "      <td>9299000000</td>\n",
       "      <td>7662000000</td>\n",
       "      <td>...</td>\n",
       "      <td>8.75</td>\n",
       "      <td>21.74</td>\n",
       "      <td>43.27</td>\n",
       "      <td>0.5291</td>\n",
       "      <td>0.7818</td>\n",
       "      <td>0.3579</td>\n",
       "      <td>0.1629</td>\n",
       "      <td>0.91</td>\n",
       "      <td>1.051670</td>\n",
       "      <td>1</td>\n",
       "    </tr>\n",
       "    <tr>\n",
       "      <th>3</th>\n",
       "      <td>2016-03-31</td>\n",
       "      <td>606514530</td>\n",
       "      <td>32982000000</td>\n",
       "      <td>21208000000</td>\n",
       "      <td>11733000000</td>\n",
       "      <td>41000000</td>\n",
       "      <td>0</td>\n",
       "      <td>11926000000</td>\n",
       "      <td>8927000000</td>\n",
       "      <td>7409000000</td>\n",
       "      <td>...</td>\n",
       "      <td>7.81</td>\n",
       "      <td>19.93</td>\n",
       "      <td>42.16</td>\n",
       "      <td>0.5219</td>\n",
       "      <td>0.7608</td>\n",
       "      <td>0.3557</td>\n",
       "      <td>0.1631</td>\n",
       "      <td>0.92</td>\n",
       "      <td>1.119680</td>\n",
       "      <td>1</td>\n",
       "    </tr>\n",
       "    <tr>\n",
       "      <th>4</th>\n",
       "      <td>2015-12-31</td>\n",
       "      <td>605038186</td>\n",
       "      <td>32718000000</td>\n",
       "      <td>20971000000</td>\n",
       "      <td>11708000000</td>\n",
       "      <td>39000000</td>\n",
       "      <td>0</td>\n",
       "      <td>11850000000</td>\n",
       "      <td>8799000000</td>\n",
       "      <td>7298000000</td>\n",
       "      <td>...</td>\n",
       "      <td>7.55</td>\n",
       "      <td>19.32</td>\n",
       "      <td>41.05</td>\n",
       "      <td>0.5253</td>\n",
       "      <td>0.7515</td>\n",
       "      <td>0.3578</td>\n",
       "      <td>0.1596</td>\n",
       "      <td>0.95</td>\n",
       "      <td>1.011652</td>\n",
       "      <td>1</td>\n",
       "    </tr>\n",
       "  </tbody>\n",
       "</table>\n",
       "<p>5 rows × 31 columns</p>\n",
       "</div>"
      ],
      "text/plain": [
       "  Quarter end  Shares split adjusted       Assets  Liabilities  \\\n",
       "0  2016-12-31              596200000  32906000000  22563000000   \n",
       "1  2016-09-30              601466401  34051000000  22003000000   \n",
       "2  2016-06-30              604400291  33235000000  21298000000   \n",
       "3  2016-03-31              606514530  32982000000  21208000000   \n",
       "4  2015-12-31              605038186  32718000000  20971000000   \n",
       "\n",
       "   Shareholders equity  Non-controlling interest  Preferred equity  \\\n",
       "0          10298000000                  45000000                 0   \n",
       "1          12002000000                  46000000                 0   \n",
       "2          11894000000                  43000000                 0   \n",
       "3          11733000000                  41000000                 0   \n",
       "4          11708000000                  39000000                 0   \n",
       "\n",
       "   Goodwill & intangibles  Long-term debt     Revenue ...  P/B ratio  \\\n",
       "0             11486000000     10723000000  7329000000 ...       8.62   \n",
       "1             11852000000     11079000000  7709000000 ...       9.04   \n",
       "2             11833000000      9299000000  7662000000 ...       8.75   \n",
       "3             11926000000      8927000000  7409000000 ...       7.81   \n",
       "4             11850000000      8799000000  7298000000 ...       7.55   \n",
       "\n",
       "   P/E ratio  Cumulative dividends per share  Dividend payout ratio  \\\n",
       "0      21.66                           45.49                 0.5294   \n",
       "1      22.69                           44.38                 0.5329   \n",
       "2      21.74                           43.27                 0.5291   \n",
       "3      19.93                           42.16                 0.5219   \n",
       "4      19.32                           41.05                 0.5253   \n",
       "\n",
       "   Long-term debt to equity ratio  Equity to assets ratio  Net margin  \\\n",
       "0                          1.0413                  0.3130      0.1677   \n",
       "1                          0.9231                  0.3525      0.1640   \n",
       "2                          0.7818                  0.3579      0.1629   \n",
       "3                          0.7608                  0.3557      0.1631   \n",
       "4                          0.7515                  0.3578      0.1596   \n",
       "\n",
       "   Asset turnover      Gain  Id  \n",
       "0            0.90  1.000000   1  \n",
       "1            0.90  0.966609   1  \n",
       "2            0.91  1.051670   1  \n",
       "3            0.92  1.119680   1  \n",
       "4            0.95  1.011652   1  \n",
       "\n",
       "[5 rows x 31 columns]"
      ]
     },
     "execution_count": 2,
     "metadata": {},
     "output_type": "execute_result"
    }
   ],
   "source": [
    "df.head(5)"
   ]
  },
  {
   "cell_type": "code",
   "execution_count": 3,
   "metadata": {
    "collapsed": false
   },
   "outputs": [
    {
     "name": "stdout",
     "output_type": "stream",
     "text": [
      "(27746, 31)\n",
      "(27746, 30)\n"
     ]
    },
    {
     "data": {
      "text/plain": [
       "array([ 1.06153235,  1.01867267,  1.13093444, ...,  1.03138462,\n",
       "        1.22952149,  1.03735547])"
      ]
     },
     "execution_count": 3,
     "metadata": {},
     "output_type": "execute_result"
    }
   ],
   "source": [
    "numerics = ['int16', 'int32', 'int64', 'float16', 'float32', 'float64']\n",
    "new_df = df.select_dtypes(include=numerics)\n",
    "\n",
    "print df.shape\n",
    "print new_df.shape\n",
    "\n",
    "shuffled = np.arange(len(new_df))\n",
    "np.random.shuffle(shuffled)\n",
    "\n",
    "train_size = int(0.8*len(new_df))\n",
    "test_size = len(new_df) - train_size\n",
    "\n",
    "train_df = new_df.ix[shuffled[:train_size]]\n",
    "test_df = new_df.ix[shuffled[train_size:]]\n",
    "\n",
    "train_labels = train_df[['Gain']].values\n",
    "test_labels = test_df[['Gain']].values\n",
    "\n",
    "train_set = train_df.drop(['Gain'], axis=1).values\n",
    "test_set = test_df.drop(['Gain'], axis=1).values\n",
    "\n",
    "train_labels.flatten()"
   ]
  },
  {
   "cell_type": "code",
   "execution_count": 4,
   "metadata": {
    "collapsed": false
   },
   "outputs": [
    {
     "name": "stdout",
     "output_type": "stream",
     "text": [
      "Train Model\n",
      "Making Prediction\n"
     ]
    },
    {
     "data": {
      "image/png": "[encoded data removed]",
      "text/plain": [
       "<matplotlib.figure.Figure at 0x1168b79d0>"
      ]
     },
     "metadata": {},
     "output_type": "display_data"
    }
   ],
   "source": [
    "print \"Train Model\"\n",
    "svr_rbf = SVR(kernel='rbf', C=1e3, gamma=0.1)\n",
    "svr_rbf = svr_rbf.fit(train_set, train_labels.flatten())\n",
    "print \"Making Prediction\"\n",
    "prediction = svr_rbf.predict(train_set)\n",
    "\n",
    "plt.subplot(2,1,1)\n",
    "plt.plot(train_labels.flatten())\n",
    "plt.subplot(2,1,2)\n",
    "plt.plot(prediction)\n",
    "plt.show()"
   ]
  },
  {
   "cell_type": "code",
   "execution_count": 6,
   "metadata": {
    "collapsed": false
   },
   "outputs": [
    {
     "data": {
      "image/png": "[encoded data removed]",
      "text/plain": [
       "<matplotlib.figure.Figure at 0x116d4ac50>"
      ]
     },
     "metadata": {},
     "output_type": "display_data"
    }
   ],
   "source": [
    "prediction = svr_rbf.predict(test_set)\n",
    "plt.figure()\n",
    "plt.subplot(2,1,1)\n",
    "plt.plot(test_labels.flatten())\n",
    "\n",
    "plt.subplot(2,1,2)\n",
    "plt.plot(prediction)\n",
    "plt.show()"
   ]
  },
  {
   "cell_type": "code",
   "execution_count": null,
   "metadata": {
    "collapsed": true
   },
   "outputs": [],
   "source": []
  }
 ],
 "metadata": {
  "kernelspec": {
   "display_name": "Python 2",
   "language": "python",
   "name": "python2"
  },
  "language_info": {
   "codemirror_mode": {
    "name": "ipython",
    "version": 2
   },
   "file_extension": ".py",
   "mimetype": "text/x-python",
   "name": "python",
   "nbconvert_exporter": "python",
   "pygments_lexer": "ipython2",
   "version": "2.7.10"
  }
 },
 "nbformat": 4,
 "nbformat_minor": 2
}
